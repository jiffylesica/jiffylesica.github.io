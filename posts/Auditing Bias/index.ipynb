{
 "cells": [
  {
   "cell_type": "markdown",
   "metadata": {},
   "source": [
    "# Auditing Bias\n",
    "\n",
    "### Jiffy Lesica\n",
    "\n",
    "Goals:\n",
    "1. Train a machine learning algorithm to predict whether someone is currently employed, based on their other attributes not including gender, and\n",
    "2. Perform a bias audit of our algorithm to determine whether it displays gender bias."
   ]
  },
  {
   "cell_type": "markdown",
   "metadata": {},
   "source": [
    "In this blog post, I trained a machine learning classifier on PUMS data from the state of Connecticut to predict an individual’s employment status based on demographic features. After preparing the data with the folktables library, I experimented with a various classifier models, ultimately deciding on a Random Forest model whose performance I evaluated using metrics like accuracy, Positive Prediction Value, and False Positive/Negative Rates. I then conducted a bias audit by examining false positive rates (FPR), false negative rates (FNR), and positive predictive value (PPV) across the gender groups available in the data - Male and Female. I then plotted feasible FNRs & FPRs to visualize the relationship of error rates between groups, and understand how much one group’s error rate would have to change to match the others. Our results showed notable differences in error rates and PPVs between groups, highlighting areas where the model may inadvertently misclassify women more frequently."
   ]
  },
  {
   "cell_type": "code",
   "execution_count": 164,
   "metadata": {},
   "outputs": [
    {
     "data": {
      "text/html": [
       "<div>\n",
       "<style scoped>\n",
       "    .dataframe tbody tr th:only-of-type {\n",
       "        vertical-align: middle;\n",
       "    }\n",
       "\n",
       "    .dataframe tbody tr th {\n",
       "        vertical-align: top;\n",
       "    }\n",
       "\n",
       "    .dataframe thead th {\n",
       "        text-align: right;\n",
       "    }\n",
       "</style>\n",
       "<table border=\"1\" class=\"dataframe\">\n",
       "  <thead>\n",
       "    <tr style=\"text-align: right;\">\n",
       "      <th></th>\n",
       "      <th>RT</th>\n",
       "      <th>SERIALNO</th>\n",
       "      <th>DIVISION</th>\n",
       "      <th>SPORDER</th>\n",
       "      <th>PUMA</th>\n",
       "      <th>REGION</th>\n",
       "      <th>ST</th>\n",
       "      <th>ADJINC</th>\n",
       "      <th>PWGTP</th>\n",
       "      <th>AGEP</th>\n",
       "      <th>...</th>\n",
       "      <th>PWGTP71</th>\n",
       "      <th>PWGTP72</th>\n",
       "      <th>PWGTP73</th>\n",
       "      <th>PWGTP74</th>\n",
       "      <th>PWGTP75</th>\n",
       "      <th>PWGTP76</th>\n",
       "      <th>PWGTP77</th>\n",
       "      <th>PWGTP78</th>\n",
       "      <th>PWGTP79</th>\n",
       "      <th>PWGTP80</th>\n",
       "    </tr>\n",
       "  </thead>\n",
       "  <tbody>\n",
       "    <tr>\n",
       "      <th>0</th>\n",
       "      <td>P</td>\n",
       "      <td>2018GQ0000191</td>\n",
       "      <td>1</td>\n",
       "      <td>1</td>\n",
       "      <td>302</td>\n",
       "      <td>1</td>\n",
       "      <td>9</td>\n",
       "      <td>1013097</td>\n",
       "      <td>40</td>\n",
       "      <td>90</td>\n",
       "      <td>...</td>\n",
       "      <td>82</td>\n",
       "      <td>39</td>\n",
       "      <td>38</td>\n",
       "      <td>81</td>\n",
       "      <td>0</td>\n",
       "      <td>38</td>\n",
       "      <td>0</td>\n",
       "      <td>0</td>\n",
       "      <td>36</td>\n",
       "      <td>34</td>\n",
       "    </tr>\n",
       "    <tr>\n",
       "      <th>1</th>\n",
       "      <td>P</td>\n",
       "      <td>2018GQ0000285</td>\n",
       "      <td>1</td>\n",
       "      <td>1</td>\n",
       "      <td>101</td>\n",
       "      <td>1</td>\n",
       "      <td>9</td>\n",
       "      <td>1013097</td>\n",
       "      <td>70</td>\n",
       "      <td>18</td>\n",
       "      <td>...</td>\n",
       "      <td>69</td>\n",
       "      <td>134</td>\n",
       "      <td>7</td>\n",
       "      <td>70</td>\n",
       "      <td>6</td>\n",
       "      <td>68</td>\n",
       "      <td>141</td>\n",
       "      <td>68</td>\n",
       "      <td>132</td>\n",
       "      <td>145</td>\n",
       "    </tr>\n",
       "    <tr>\n",
       "      <th>2</th>\n",
       "      <td>P</td>\n",
       "      <td>2018GQ0000328</td>\n",
       "      <td>1</td>\n",
       "      <td>1</td>\n",
       "      <td>1101</td>\n",
       "      <td>1</td>\n",
       "      <td>9</td>\n",
       "      <td>1013097</td>\n",
       "      <td>17</td>\n",
       "      <td>54</td>\n",
       "      <td>...</td>\n",
       "      <td>37</td>\n",
       "      <td>35</td>\n",
       "      <td>16</td>\n",
       "      <td>16</td>\n",
       "      <td>0</td>\n",
       "      <td>17</td>\n",
       "      <td>18</td>\n",
       "      <td>19</td>\n",
       "      <td>18</td>\n",
       "      <td>16</td>\n",
       "    </tr>\n",
       "    <tr>\n",
       "      <th>3</th>\n",
       "      <td>P</td>\n",
       "      <td>2018GQ0000360</td>\n",
       "      <td>1</td>\n",
       "      <td>1</td>\n",
       "      <td>905</td>\n",
       "      <td>1</td>\n",
       "      <td>9</td>\n",
       "      <td>1013097</td>\n",
       "      <td>47</td>\n",
       "      <td>18</td>\n",
       "      <td>...</td>\n",
       "      <td>46</td>\n",
       "      <td>48</td>\n",
       "      <td>4</td>\n",
       "      <td>90</td>\n",
       "      <td>87</td>\n",
       "      <td>84</td>\n",
       "      <td>90</td>\n",
       "      <td>3</td>\n",
       "      <td>47</td>\n",
       "      <td>48</td>\n",
       "    </tr>\n",
       "    <tr>\n",
       "      <th>4</th>\n",
       "      <td>P</td>\n",
       "      <td>2018GQ0000428</td>\n",
       "      <td>1</td>\n",
       "      <td>1</td>\n",
       "      <td>903</td>\n",
       "      <td>1</td>\n",
       "      <td>9</td>\n",
       "      <td>1013097</td>\n",
       "      <td>35</td>\n",
       "      <td>96</td>\n",
       "      <td>...</td>\n",
       "      <td>32</td>\n",
       "      <td>35</td>\n",
       "      <td>36</td>\n",
       "      <td>71</td>\n",
       "      <td>36</td>\n",
       "      <td>3</td>\n",
       "      <td>37</td>\n",
       "      <td>2</td>\n",
       "      <td>2</td>\n",
       "      <td>35</td>\n",
       "    </tr>\n",
       "  </tbody>\n",
       "</table>\n",
       "<p>5 rows × 286 columns</p>\n",
       "</div>"
      ],
      "text/plain": [
       "  RT       SERIALNO  DIVISION  SPORDER  PUMA  REGION  ST   ADJINC  PWGTP  \\\n",
       "0  P  2018GQ0000191         1        1   302       1   9  1013097     40   \n",
       "1  P  2018GQ0000285         1        1   101       1   9  1013097     70   \n",
       "2  P  2018GQ0000328         1        1  1101       1   9  1013097     17   \n",
       "3  P  2018GQ0000360         1        1   905       1   9  1013097     47   \n",
       "4  P  2018GQ0000428         1        1   903       1   9  1013097     35   \n",
       "\n",
       "   AGEP  ...  PWGTP71  PWGTP72  PWGTP73  PWGTP74  PWGTP75  PWGTP76  PWGTP77  \\\n",
       "0    90  ...       82       39       38       81        0       38        0   \n",
       "1    18  ...       69      134        7       70        6       68      141   \n",
       "2    54  ...       37       35       16       16        0       17       18   \n",
       "3    18  ...       46       48        4       90       87       84       90   \n",
       "4    96  ...       32       35       36       71       36        3       37   \n",
       "\n",
       "   PWGTP78  PWGTP79  PWGTP80  \n",
       "0        0       36       34  \n",
       "1       68      132      145  \n",
       "2       19       18       16  \n",
       "3        3       47       48  \n",
       "4        2        2       35  \n",
       "\n",
       "[5 rows x 286 columns]"
      ]
     },
     "execution_count": 164,
     "metadata": {},
     "output_type": "execute_result"
    }
   ],
   "source": [
    "from folktables import ACSDataSource, ACSEmployment, BasicProblem, adult_filter\n",
    "import numpy as np\n",
    "\n",
    "STATE = \"CT\"\n",
    "\n",
    "data_source = ACSDataSource(survey_year='2018', \n",
    "                            horizon='1-Year', \n",
    "                            survey='person')\n",
    "\n",
    "acs_data = data_source.get_data(states=[STATE], download=True)\n",
    "\n",
    "acs_data.head()"
   ]
  },
  {
   "cell_type": "code",
   "execution_count": 114,
   "metadata": {},
   "outputs": [
    {
     "data": {
      "text/html": [
       "<div>\n",
       "<style scoped>\n",
       "    .dataframe tbody tr th:only-of-type {\n",
       "        vertical-align: middle;\n",
       "    }\n",
       "\n",
       "    .dataframe tbody tr th {\n",
       "        vertical-align: top;\n",
       "    }\n",
       "\n",
       "    .dataframe thead th {\n",
       "        text-align: right;\n",
       "    }\n",
       "</style>\n",
       "<table border=\"1\" class=\"dataframe\">\n",
       "  <thead>\n",
       "    <tr style=\"text-align: right;\">\n",
       "      <th></th>\n",
       "      <th>AGEP</th>\n",
       "      <th>SCHL</th>\n",
       "      <th>MAR</th>\n",
       "      <th>RELP</th>\n",
       "      <th>DIS</th>\n",
       "      <th>ESP</th>\n",
       "      <th>CIT</th>\n",
       "      <th>MIG</th>\n",
       "      <th>MIL</th>\n",
       "      <th>ANC</th>\n",
       "      <th>NATIVITY</th>\n",
       "      <th>DEAR</th>\n",
       "      <th>DEYE</th>\n",
       "      <th>DREM</th>\n",
       "      <th>SEX</th>\n",
       "      <th>RAC1P</th>\n",
       "      <th>ESR</th>\n",
       "    </tr>\n",
       "  </thead>\n",
       "  <tbody>\n",
       "    <tr>\n",
       "      <th>0</th>\n",
       "      <td>90</td>\n",
       "      <td>16.0</td>\n",
       "      <td>5</td>\n",
       "      <td>17</td>\n",
       "      <td>1</td>\n",
       "      <td>NaN</td>\n",
       "      <td>1</td>\n",
       "      <td>1.0</td>\n",
       "      <td>4.0</td>\n",
       "      <td>1</td>\n",
       "      <td>1</td>\n",
       "      <td>2</td>\n",
       "      <td>2</td>\n",
       "      <td>1.0</td>\n",
       "      <td>2</td>\n",
       "      <td>1</td>\n",
       "      <td>6.0</td>\n",
       "    </tr>\n",
       "    <tr>\n",
       "      <th>1</th>\n",
       "      <td>18</td>\n",
       "      <td>16.0</td>\n",
       "      <td>5</td>\n",
       "      <td>17</td>\n",
       "      <td>2</td>\n",
       "      <td>NaN</td>\n",
       "      <td>1</td>\n",
       "      <td>1.0</td>\n",
       "      <td>4.0</td>\n",
       "      <td>2</td>\n",
       "      <td>1</td>\n",
       "      <td>2</td>\n",
       "      <td>2</td>\n",
       "      <td>2.0</td>\n",
       "      <td>2</td>\n",
       "      <td>1</td>\n",
       "      <td>6.0</td>\n",
       "    </tr>\n",
       "    <tr>\n",
       "      <th>2</th>\n",
       "      <td>54</td>\n",
       "      <td>17.0</td>\n",
       "      <td>5</td>\n",
       "      <td>17</td>\n",
       "      <td>1</td>\n",
       "      <td>NaN</td>\n",
       "      <td>1</td>\n",
       "      <td>3.0</td>\n",
       "      <td>4.0</td>\n",
       "      <td>1</td>\n",
       "      <td>1</td>\n",
       "      <td>2</td>\n",
       "      <td>2</td>\n",
       "      <td>1.0</td>\n",
       "      <td>1</td>\n",
       "      <td>2</td>\n",
       "      <td>6.0</td>\n",
       "    </tr>\n",
       "    <tr>\n",
       "      <th>3</th>\n",
       "      <td>18</td>\n",
       "      <td>19.0</td>\n",
       "      <td>5</td>\n",
       "      <td>17</td>\n",
       "      <td>2</td>\n",
       "      <td>NaN</td>\n",
       "      <td>3</td>\n",
       "      <td>3.0</td>\n",
       "      <td>4.0</td>\n",
       "      <td>2</td>\n",
       "      <td>1</td>\n",
       "      <td>2</td>\n",
       "      <td>2</td>\n",
       "      <td>2.0</td>\n",
       "      <td>1</td>\n",
       "      <td>1</td>\n",
       "      <td>1.0</td>\n",
       "    </tr>\n",
       "    <tr>\n",
       "      <th>4</th>\n",
       "      <td>96</td>\n",
       "      <td>16.0</td>\n",
       "      <td>2</td>\n",
       "      <td>16</td>\n",
       "      <td>1</td>\n",
       "      <td>NaN</td>\n",
       "      <td>1</td>\n",
       "      <td>3.0</td>\n",
       "      <td>4.0</td>\n",
       "      <td>4</td>\n",
       "      <td>1</td>\n",
       "      <td>2</td>\n",
       "      <td>2</td>\n",
       "      <td>1.0</td>\n",
       "      <td>2</td>\n",
       "      <td>1</td>\n",
       "      <td>6.0</td>\n",
       "    </tr>\n",
       "  </tbody>\n",
       "</table>\n",
       "</div>"
      ],
      "text/plain": [
       "   AGEP  SCHL  MAR  RELP  DIS  ESP  CIT  MIG  MIL  ANC  NATIVITY  DEAR  DEYE  \\\n",
       "0    90  16.0    5    17    1  NaN    1  1.0  4.0    1         1     2     2   \n",
       "1    18  16.0    5    17    2  NaN    1  1.0  4.0    2         1     2     2   \n",
       "2    54  17.0    5    17    1  NaN    1  3.0  4.0    1         1     2     2   \n",
       "3    18  19.0    5    17    2  NaN    3  3.0  4.0    2         1     2     2   \n",
       "4    96  16.0    2    16    1  NaN    1  3.0  4.0    4         1     2     2   \n",
       "\n",
       "   DREM  SEX  RAC1P  ESR  \n",
       "0   1.0    2      1  6.0  \n",
       "1   2.0    2      1  6.0  \n",
       "2   1.0    1      2  6.0  \n",
       "3   2.0    1      1  1.0  \n",
       "4   1.0    2      1  6.0  "
      ]
     },
     "execution_count": 114,
     "metadata": {},
     "output_type": "execute_result"
    }
   ],
   "source": [
    "possible_features=['AGEP', 'SCHL', 'MAR', 'RELP', 'DIS', 'ESP', 'CIT', 'MIG', 'MIL', 'ANC', 'NATIVITY', 'DEAR', 'DEYE', 'DREM', 'SEX', 'RAC1P', 'ESR']\n",
    "acs_data[possible_features].head()"
   ]
  },
  {
   "cell_type": "markdown",
   "metadata": {},
   "source": [
    "## My Version"
   ]
  },
  {
   "cell_type": "code",
   "execution_count": null,
   "metadata": {},
   "outputs": [],
   "source": [
    "from sklearn.linear_model import LogisticRegression\n",
    "from sklearn.pipeline import make_pipeline\n",
    "from sklearn.preprocessing import StandardScaler\n",
    "from sklearn.metrics import confusion_matrix\n",
    "from sklearn.model_selection import train_test_split"
   ]
  },
  {
   "cell_type": "code",
   "execution_count": 124,
   "metadata": {},
   "outputs": [],
   "source": [
    "features_to_use1 = [f for f in possible_features if f not in [\"ESR\", \"SEX\"]]"
   ]
  },
  {
   "cell_type": "code",
   "execution_count": 125,
   "metadata": {},
   "outputs": [],
   "source": [
    "EmploymentProblemSex = BasicProblem(\n",
    "    features=features_to_use1,\n",
    "    target='ESR',\n",
    "    target_transform=lambda x: x == 1,\n",
    "    group='SEX',\n",
    "    preprocess=lambda x: x,\n",
    "    postprocess=lambda x: np.nan_to_num(x, -1),\n",
    ")\n",
    "\n",
    "features, label, group = EmploymentProblemSex.df_to_numpy(acs_data)"
   ]
  },
  {
   "cell_type": "code",
   "execution_count": 126,
   "metadata": {},
   "outputs": [],
   "source": [
    "X_train, X_test, y_train, y_test, group_train, group_test = train_test_split(\n",
    "    features, label, group, test_size=0.2, random_state=0)"
   ]
  },
  {
   "cell_type": "markdown",
   "metadata": {},
   "source": [
    "*Convert Folktables data back to Pandas DataFrame for ease of descriptive analysis*"
   ]
  },
  {
   "cell_type": "code",
   "execution_count": 127,
   "metadata": {},
   "outputs": [],
   "source": [
    "import pandas as pd\n",
    "df = pd.DataFrame(X_train, columns = features_to_use1)\n",
    "df[\"group\"] = group_train\n",
    "df[\"label\"] = y_train"
   ]
  },
  {
   "cell_type": "markdown",
   "metadata": {},
   "source": [
    "### 1. How many individuals are in the data?"
   ]
  },
  {
   "cell_type": "code",
   "execution_count": 128,
   "metadata": {},
   "outputs": [
    {
     "name": "stdout",
     "output_type": "stream",
     "text": [
      "There are 29029 individuals in the data for the state of CT\n"
     ]
    }
   ],
   "source": [
    "print(f\"There are {df.shape[0]} individuals in the data for the state of CT\")"
   ]
  },
  {
   "cell_type": "markdown",
   "metadata": {},
   "source": [
    "### 2. How Many Individuals Have a Target Label == 1 (i.e. How Many Individuals are Employed)?"
   ]
  },
  {
   "cell_type": "code",
   "execution_count": 129,
   "metadata": {},
   "outputs": [
    {
     "name": "stdout",
     "output_type": "stream",
     "text": [
      "Of the 29029 in the data set, 48.43% - or 14060 individuals - are employed\n"
     ]
    }
   ],
   "source": [
    "print(f\"Of the {df.shape[0]} in the data set, {(df['label'].mean() * 100):.2f}% - or {df['label'].sum()} individuals - are employed\")"
   ]
  },
  {
   "cell_type": "markdown",
   "metadata": {},
   "source": [
    "### 3. Of the Employed Individuals, How Many are Male (1) and How Many are Female (2)?"
   ]
  },
  {
   "cell_type": "code",
   "execution_count": 130,
   "metadata": {},
   "outputs": [
    {
     "name": "stdout",
     "output_type": "stream",
     "text": [
      "Of the 14060 employed individuals, 7169 are male and 6891 are female\n"
     ]
    }
   ],
   "source": [
    "employed_by_group = df.groupby(\"group\")[\"label\"].sum()\n",
    "print(f\"Of the 14060 employed individuals, {employed_by_group.iloc[0]} are male and {employed_by_group.iloc[1]} are female\")"
   ]
  },
  {
   "cell_type": "markdown",
   "metadata": {},
   "source": [
    "### 4. In Each Group, What Proportion of Individuals Have Target Label Equal to 1 (i.e. Are Employed)?"
   ]
  },
  {
   "cell_type": "code",
   "execution_count": 131,
   "metadata": {},
   "outputs": [
    {
     "name": "stdout",
     "output_type": "stream",
     "text": [
      "According to the Data, 51.17% of male individuals are employed and 45.88% female individuals are employed\n"
     ]
    }
   ],
   "source": [
    "proportion_employed_by_group = df.groupby(\"group\")[\"label\"].mean()\n",
    "print(f\"According to the Data,{proportion_employed_by_group.iloc[0]*100: .2f}% of male individuals are employed and{proportion_employed_by_group.iloc[1]*100: .2f}% female individuals are employed\")"
   ]
  },
  {
   "cell_type": "markdown",
   "metadata": {},
   "source": [
    "### 5. Intersectional Trends"
   ]
  },
  {
   "cell_type": "code",
   "execution_count": null,
   "metadata": {},
   "outputs": [
    {
     "data": {
      "text/plain": [
       "group   RAC1P\n",
       "Female  Black    0.466667\n",
       "        White    0.464758\n",
       "Male    Black    0.371805\n",
       "        White    0.535252\n",
       "Name: label, dtype: float64"
      ]
     },
     "execution_count": 166,
     "metadata": {},
     "output_type": "execute_result"
    }
   ],
   "source": [
    "# Since RAC1P Has Values > 2, we must filter to only 1.0 and 2.0\n",
    "df_filtered = df[(df[\"RAC1P\"] == 1.0) | (df[\"RAC1P\"] == 2.0)].copy()\n",
    "# Now, we convert RAC1P values to ints to match type\n",
    "df_filtered[\"RAC1P\"] = df_filtered[\"RAC1P\"].astype(int)\n",
    "# Since I want to use categorical labels, and not just numbered labels, we use Pandas map function on a series\n",
    "# https://pandas.pydata.org/docs/reference/api/pandas.Series.map.html\n",
    "df_filtered[\"group\"] = df_filtered[\"group\"].map({1 : \"Male\", 2 : \"Female\"})\n",
    "df_filtered[\"RAC1P\"] = df_filtered[\"RAC1P\"].map({1 : \"White\", 2 : \"Black\"})\n",
    "proportion_employed_by_group = df_filtered.groupby([\"group\", \"RAC1P\"])[\"label\"].mean()"
   ]
  },
  {
   "cell_type": "code",
   "execution_count": 168,
   "metadata": {},
   "outputs": [
    {
     "data": {
      "text/plain": [
       "Text(0.5, 1.0, 'Intersectional Trends')"
      ]
     },
     "execution_count": 168,
     "metadata": {},
     "output_type": "execute_result"
    },
    {
     "data": {
      "image/png": "[encoded data removed]",
      "text/plain": [
       "<Figure size 640x480 with 1 Axes>"
      ]
     },
     "metadata": {},
     "output_type": "display_data"
    }
   ],
   "source": [
    "import seaborn as sns\n",
    "from matplotlib import pyplot as plt\n",
    "\n",
    "# Using seaborn barplot uses mean as default, which represents the proportional insights we are looking for\n",
    "sns.barplot(df_filtered, x = \"group\", y = \"label\", hue = \"RAC1P\", width=.8, gap=.2)\n",
    "plt.title(\"Intersectional Trends\")"
   ]
  },
  {
   "cell_type": "markdown",
   "metadata": {},
   "source": [
    "*Training my model with different classifiers*"
   ]
  },
  {
   "cell_type": "code",
   "execution_count": 134,
   "metadata": {},
   "outputs": [],
   "source": [
    "# Include alternative classifiers from sklearn\n",
    "from sklearn.svm import SVC\n",
    "from sklearn.tree import DecisionTreeClassifier\n",
    "from sklearn.ensemble import RandomForestClassifier"
   ]
  },
  {
   "cell_type": "markdown",
   "metadata": {},
   "source": [
    "## Logistic Regression"
   ]
  },
  {
   "cell_type": "code",
   "execution_count": 135,
   "metadata": {},
   "outputs": [
    {
     "name": "stdout",
     "output_type": "stream",
     "text": [
      "Accuracy for Logistic Regression: 82.57%\n",
      "PPV for Logistic Regression: 79.65%\n",
      "Overall FPR for LR: 20.35%\n",
      "Overall FNR for LR: 12.74%\n"
     ]
    }
   ],
   "source": [
    "# Logistic Regression Classifier (playing with polynomial features)\n",
    "# Discovered we can ass PolynomialFeatures to pipeline!\n",
    "from sklearn.preprocessing import PolynomialFeatures\n",
    "# https://scikit-learn.org/stable/modules/generated/sklearn.preprocessing.PolynomialFeatures.html\n",
    "model_sex_LR = make_pipeline(PolynomialFeatures(degree = 2), StandardScaler(), LogisticRegression(max_iter=1000))\n",
    "model_sex_LR.fit(X_train.copy(), y_train)\n",
    "\n",
    "y_hat_LR = model_sex_LR.predict(X_test)\n",
    "\n",
    "# Calculate Overall Values\n",
    "TP_LR = ((y_hat_LR == 1) & (y_test == 1)).sum()\n",
    "FP_LR = ((y_hat_LR == 1) & (y_test == 0)).sum()\n",
    "TN_LR = ((y_hat_LR == 0) & (y_test == 0)).sum()\n",
    "FN_LR = ((y_hat_LR == 0) & (y_test == 1)).sum()\n",
    "\n",
    "PPV_LR = TP_LR / (y_hat_LR == 1).sum()\n",
    "FPR_LR = FP_LR / (TP_LR + FP_LR)\n",
    "FNR_LR = FN_LR / (TP_LR + FN_LR)\n",
    "\n",
    "print(f\"Accuracy for Logistic Regression:{((y_hat_LR == y_test).mean())*100: .2f}%\")\n",
    "print(f\"PPV for Logistic Regression:{PPV_LR*100: .2f}%\")\n",
    "print(f\"Overall FPR for LR:{FPR_LR*100: .2f}%\")\n",
    "print(f\"Overall FNR for LR:{FNR_LR*100: .2f}%\")"
   ]
  },
  {
   "cell_type": "code",
   "execution_count": 136,
   "metadata": {},
   "outputs": [
    {
     "name": "stdout",
     "output_type": "stream",
     "text": [
      "\n",
      "Accuracy By Group: \n",
      " \n",
      " group\n",
      "1    84.209040\n",
      "2    81.011296\n",
      "Name: correct_prediction, dtype: float64\n",
      "\n",
      "PPV By Group: \n",
      " group\n",
      "1    83.887734\n",
      "2    75.639764\n",
      "dtype: float64\n",
      "\n",
      "FPR By Group: \n",
      " \n",
      " group\n",
      "1     8.757062\n",
      "2    13.313609\n",
      "Name: false_positive, dtype: float64\n",
      "\n",
      "FNR By Group: \n",
      " \n",
      " group\n",
      "1    7.033898\n",
      "2    5.675094\n",
      "Name: false_negative, dtype: float64\n",
      "\n",
      "Acceptance Rate (Employment) By Group: \n",
      " group\n",
      "1    54.350282\n",
      "2    54.653039\n",
      "Name: predicted_value, dtype: float64%\n"
     ]
    }
   ],
   "source": [
    "# Breaking down by subgroups is much easier if we use a Dataframe\n",
    "df_test_LR = pd.DataFrame(X_test, columns = features_to_use1)\n",
    "df_test_LR[\"group\"] = group_test\n",
    "df_test_LR[\"label\"] = y_test\n",
    "df_test_LR[\"predicted_value\"] = y_hat_LR\n",
    "df_test_LR[\"correct_prediction\"] = df_test_LR[\"predicted_value\"] == df_test_LR[\"label\"]\n",
    "\n",
    "# Calculate correct prediction by group\n",
    "df_test_LR[\"correct_prediction\"] = df_test_LR[\"predicted_value\"] == df_test_LR[\"label\"]\n",
    "print(f\"\\nAccuracy By Group: \\n \\n {df_test_LR.groupby(['group'])['correct_prediction'].mean()*100}\")\n",
    "\n",
    "# Calculate true positives and false positives by group\n",
    "df_test_LR[\"true_positive\"] = (df_test_LR[\"predicted_value\"] == 1) & (df_test_LR[\"label\"] == 1)\n",
    "df_test_LR[\"false_positive\"] = (df_test_LR[\"predicted_value\"] == 1) & (df_test_LR[\"label\"] == 0)\n",
    "\n",
    "# Calculate PPV by group\n",
    "TP_per_group_LR = df_test_LR.groupby(\"group\")[\"true_positive\"].sum()\n",
    "FP_per_group_LR = df_test_LR.groupby(\"group\")[\"false_positive\"].sum()\n",
    "PPV_per_group = TP_per_group_LR / (TP_per_group_LR + FP_per_group_LR)\n",
    "print(f\"\\nPPV By Group: \\n {PPV_per_group * 100}\")\n",
    "\n",
    "# Calculate false positives by group\n",
    "df_test_LR[\"false_positive\"] = (df_test_LR[\"predicted_value\"] == 1) & (df_test_LR[\"label\"] == 0) \n",
    "print(f\"\\nFPR By Group: \\n \\n {df_test_LR.groupby(['group'])['false_positive'].mean()*100}\")\n",
    "\n",
    "# Calculate false negatives by group\n",
    "df_test_LR[\"false_negative\"] = (df_test_LR[\"predicted_value\"] == 0) & (df_test_LR[\"label\"] == 1) \n",
    "print(f\"\\nFNR By Group: \\n \\n {df_test_LR.groupby(['group'])['false_negative'].mean()*100}\")\n",
    "\n",
    "# Compute for statistical parity by group\n",
    "\n",
    "# Total individuals per group\n",
    "per_group_total_LR = df_test_LR.groupby(\"group\")[\"predicted_value\"].count()\n",
    "\n",
    "# Total predicted positives per group\n",
    "predicted_positives_per_group_LR = df_test_LR.groupby(\"group\")[\"predicted_value\"].sum()\n",
    "\n",
    "# Calculate acceptance rate\n",
    "statistical_parity_by_group_LR = (predicted_positives_per_group_LR / per_group_total_LR) * 100\n",
    "print(f\"\\nAcceptance Rate (Employment) By Group: \\n {statistical_parity_by_group_LR}%\")\n",
    "\n"
   ]
  },
  {
   "cell_type": "markdown",
   "metadata": {},
   "source": [
    "#### Discussion:\n",
    "\n",
    "By implementing the PolynomialFeatures preprocessing function/module, I was able to add polynomial feature adjustments directly into the model pipeline. By calculating all polynomial combinations of my features with a degree of 2, I achieved my best accuracy of 82.57%."
   ]
  },
  {
   "cell_type": "markdown",
   "metadata": {},
   "source": [
    "## SVC"
   ]
  },
  {
   "cell_type": "code",
   "execution_count": 137,
   "metadata": {},
   "outputs": [
    {
     "name": "stdout",
     "output_type": "stream",
     "text": [
      "Accuracy for SVC: 82.41%\n",
      "PPV for SVC: 78.79%\n",
      "Overall FPR for SVC: 21.21%\n",
      "Overall FNR for SVC: 11.55%\n"
     ]
    }
   ],
   "source": [
    "# SVC Classifier\n",
    "model_sex_SVC = make_pipeline(StandardScaler(), SVC(C = 3.0))\n",
    "model_sex_SVC.fit(X_train, y_train)\n",
    "\n",
    "y_hat_SVC = model_sex_SVC.predict(X_test)\n",
    "\n",
    "# Calculate Overall Values\n",
    "TP_SVC = ((y_hat_SVC == 1) & (y_test == 1)).sum()\n",
    "FP_SVC = ((y_hat_SVC == 1) & (y_test == 0)).sum()\n",
    "TN_SVC = ((y_hat_SVC == 0) & (y_test == 0)).sum()\n",
    "FN_SVC = ((y_hat_SVC == 0) & (y_test == 1)).sum()\n",
    "\n",
    "PPV_SVC = TP_SVC / (y_hat_SVC == 1).sum()\n",
    "FPR_SVC = FP_SVC / (TP_SVC + FP_SVC)\n",
    "FNR_SVC = FN_SVC / (TP_SVC + FN_SVC)\n",
    "\n",
    "print(f\"Accuracy for SVC:{((y_hat_SVC == y_test).mean())*100: .2f}%\")\n",
    "print(f\"PPV for SVC:{PPV_SVC*100: .2f}%\")\n",
    "print(f\"Overall FPR for SVC:{FPR_SVC*100: .2f}%\")\n",
    "print(f\"Overall FNR for SVC:{FNR_SVC*100: .2f}%\")"
   ]
  },
  {
   "cell_type": "code",
   "execution_count": 138,
   "metadata": {},
   "outputs": [
    {
     "name": "stdout",
     "output_type": "stream",
     "text": [
      "\n",
      "Accuracy By Group: \n",
      " group\n",
      "1    84.406780\n",
      "2    80.500269\n",
      "Name: correct_prediction, dtype: float64\n",
      "\n",
      "PPV By Group: \n",
      " group\n",
      "1    83.324860\n",
      "2    74.508864\n",
      "dtype: float64\n",
      "\n",
      "FPR By Group: \n",
      " group\n",
      "1     9.265537\n",
      "2    14.308768\n",
      "Name: false_positive, dtype: float64\n",
      "\n",
      "FNR By Group: \n",
      " group\n",
      "1    6.327684\n",
      "2    5.190963\n",
      "Name: false_negative, dtype: float64\n",
      "\n",
      "Acceptance Rate (Employment) By Group: \n",
      " group\n",
      "1    55.564972\n",
      "2    56.132329\n",
      "Name: predicted_value, dtype: float64\n"
     ]
    }
   ],
   "source": [
    "# Breaking down by subgroups is much easier if we use a Dataframe\n",
    "df_test_SVC = pd.DataFrame(X_test, columns = features_to_use1)\n",
    "df_test_SVC[\"group\"] = group_test\n",
    "df_test_SVC[\"label\"] = y_test\n",
    "df_test_SVC[\"predicted_value\"] = y_hat_SVC\n",
    "df_test_SVC[\"correct_prediction\"] = df_test_SVC[\"predicted_value\"] == df_test_SVC[\"label\"]\n",
    "\n",
    "# Calculate correct prediction by group\n",
    "df_test_SVC[\"correct_prediction\"] = df_test_SVC[\"predicted_value\"] == df_test_SVC[\"label\"]\n",
    "print(f\"\\nAccuracy By Group: \\n {df_test_SVC.groupby(['group'])['correct_prediction'].mean()*100}\")\n",
    "\n",
    "# Calculate true positives and false positives by group\n",
    "df_test_SVC[\"true_positive\"] = (df_test_SVC[\"predicted_value\"] == 1) & (df_test_SVC[\"label\"] == 1)\n",
    "df_test_SVC[\"false_positive\"] = (df_test_SVC[\"predicted_value\"] == 1) & (df_test_SVC[\"label\"] == 0)\n",
    "\n",
    "# Calculate PPV by group\n",
    "TP_per_group_SVC = df_test_SVC.groupby(\"group\")[\"true_positive\"].sum()\n",
    "FP_per_group_SVC = df_test_SVC.groupby(\"group\")[\"false_positive\"].sum()\n",
    "PPV_per_group = TP_per_group_SVC / (TP_per_group_SVC + FP_per_group_SVC)\n",
    "print(f\"\\nPPV By Group: \\n {PPV_per_group * 100}\")\n",
    "\n",
    "# Calculate false positives by group\n",
    "df_test_SVC[\"false_positive\"] = (df_test_SVC[\"predicted_value\"] == 1) & (df_test_SVC[\"label\"] == 0) \n",
    "print(f\"\\nFPR By Group: \\n {df_test_SVC.groupby(['group'])['false_positive'].mean()*100}\")\n",
    "\n",
    "# Calculate false negatives by group\n",
    "df_test_SVC[\"false_negative\"] = (df_test_SVC[\"predicted_value\"] == 0) & (df_test_SVC[\"label\"] == 1) \n",
    "print(f\"\\nFNR By Group: \\n {df_test_SVC.groupby(['group'])['false_negative'].mean()*100}\")\n",
    "\n",
    "# Compute for statistical parity by group\n",
    "\n",
    "# Total individuals per group\n",
    "per_group_total_SVC = df_test_SVC.groupby(\"group\")[\"predicted_value\"].count()\n",
    "\n",
    "# Total predicted positives per group\n",
    "predicted_positives_per_group_SVC = df_test_SVC.groupby(\"group\")[\"predicted_value\"].sum()\n",
    "\n",
    "# Calculate acceptance rate\n",
    "statistical_parity_by_group_SVC = (predicted_positives_per_group_SVC / per_group_total_SVC) * 100\n",
    "print(f\"\\nAcceptance Rate (Employment) By Group: \\n {statistical_parity_by_group_SVC}\")\n"
   ]
  },
  {
   "cell_type": "markdown",
   "metadata": {},
   "source": [
    "#### Discussion:\n",
    "\n",
    "From what I could find on sklearn and online (this Medium article: https://medium.com/@myselfaman12345/c-and-gamma-in-svm-e6cee48626be) C - to put it generally - indicates *how much* we want to avoid misclassification on our training data. A low C value leads to low training error, and high C allows for more error on training data. However, minimizing C - and therefore training classification error - too far seems to lead to over fitting. As I dropped the C value below 1.0 (the default sklearn value) I found my classification accuracy begin to drop. Setting it too high led to the same effect. It seems that the \"optimal\" C value is context-dependent. Interestingly, my  accuracy was very similary at a C value of 0.8 (82.35%) and 3.0 (82.41%). The default C value of 1.0 resulted in an 83.32% accuracy."
   ]
  },
  {
   "cell_type": "markdown",
   "metadata": {},
   "source": [
    "*Extract predicitions on all test sets modeled with each classifier*"
   ]
  },
  {
   "cell_type": "markdown",
   "metadata": {},
   "source": [
    "## Decision Tree"
   ]
  },
  {
   "cell_type": "code",
   "execution_count": 139,
   "metadata": {},
   "outputs": [
    {
     "name": "stdout",
     "output_type": "stream",
     "text": [
      "Accuracy for Decision Tree: 83.11%\n",
      "PPV for Decision Tree: 80.41%\n",
      "Overall FPR for Decision Tree: 19.59%\n",
      "Overall FNR for Decision Tree: 12.68%\n"
     ]
    }
   ],
   "source": [
    "# Decision Tree Classifier\n",
    "model_sex_DT = make_pipeline(StandardScaler(), DecisionTreeClassifier(max_depth=12, min_samples_split=8))\n",
    "model_sex_DT.fit(X_train, y_train)\n",
    "\n",
    "y_hat_DT = model_sex_DT.predict(X_test)\n",
    "\n",
    "# Calculate Overall Values\n",
    "TP_DT = ((y_hat_DT == 1) & (y_test == 1)).sum()\n",
    "FP_DT = ((y_hat_DT == 1) & (y_test == 0)).sum()\n",
    "TN_DT = ((y_hat_DT == 0) & (y_test == 0)).sum()\n",
    "FN_DT = ((y_hat_DT == 0) & (y_test == 1)).sum()\n",
    "\n",
    "PPV_DT = TP_DT / (y_hat_DT == 1).sum()\n",
    "FPR_DT = FP_DT / (TP_DT + FP_DT)\n",
    "FNR_DT = FN_DT / (TP_DT + FN_DT)\n",
    "\n",
    "print(f\"Accuracy for Decision Tree:{((y_hat_DT == y_test).mean())*100: .2f}%\")\n",
    "# No Parameters: 77.28%, With Parameters: 83.12% \n",
    "print(f\"PPV for Decision Tree:{PPV_DT*100: .2f}%\")\n",
    "print(f\"Overall FPR for Decision Tree:{FPR_DT*100: .2f}%\")\n",
    "print(f\"Overall FNR for Decision Tree:{FNR_DT*100: .2f}%\")"
   ]
  },
  {
   "cell_type": "code",
   "execution_count": 140,
   "metadata": {},
   "outputs": [
    {
     "name": "stdout",
     "output_type": "stream",
     "text": [
      "\n",
      "Accuracy By Group: \n",
      " group\n",
      "1    85.084746\n",
      "2    81.226466\n",
      "Name: correct_prediction, dtype: float64\n",
      "\n",
      "PPV By Group: \n",
      " group\n",
      "1    85.039370\n",
      "2    76.041667\n",
      "dtype: float64\n",
      "\n",
      "FPR By Group: \n",
      " group\n",
      "1     8.050847\n",
      "2    12.990855\n",
      "Name: false_positive, dtype: float64\n",
      "\n",
      "FNR By Group: \n",
      " group\n",
      "1    6.864407\n",
      "2    5.782679\n",
      "Name: false_negative, dtype: float64\n",
      "\n",
      "Acceptance Rate (Employment) By Group: \n",
      " group\n",
      "1    53.813559\n",
      "2    54.222700\n",
      "Name: predicted_value, dtype: float64\n"
     ]
    }
   ],
   "source": [
    "# Breaking down by subgroups is much easier if we use a Dataframe\n",
    "df_test_DT = pd.DataFrame(X_test, columns = features_to_use1)\n",
    "df_test_DT[\"group\"] = group_test\n",
    "df_test_DT[\"label\"] = y_test\n",
    "df_test_DT[\"predicted_value\"] = y_hat_DT\n",
    "df_test_DT[\"correct_prediction\"] = df_test_DT[\"predicted_value\"] == df_test_DT[\"label\"]\n",
    "\n",
    "# Calculate correct prediction by group\n",
    "df_test_DT[\"correct_prediction\"] = df_test_DT[\"predicted_value\"] == df_test_DT[\"label\"]\n",
    "print(f\"\\nAccuracy By Group: \\n {df_test_DT.groupby(['group'])['correct_prediction'].mean()*100}\")\n",
    "\n",
    "# Calculate true positives and false positives by group\n",
    "df_test_DT[\"true_positive\"] = (df_test_DT[\"predicted_value\"] == 1) & (df_test_DT[\"label\"] == 1)\n",
    "df_test_DT[\"false_positive\"] = (df_test_DT[\"predicted_value\"] == 1) & (df_test_DT[\"label\"] == 0)\n",
    "\n",
    "# Calculate PPV by group\n",
    "TP_per_group_DT = df_test_DT.groupby(\"group\")[\"true_positive\"].sum()\n",
    "FP_per_group_DT = df_test_DT.groupby(\"group\")[\"false_positive\"].sum()\n",
    "PPV_per_group = TP_per_group_DT / (TP_per_group_DT + FP_per_group_DT)\n",
    "print(f\"\\nPPV By Group: \\n {PPV_per_group * 100}\")\n",
    "\n",
    "# Calculate false positives by group\n",
    "df_test_DT[\"false_positive\"] = (df_test_DT[\"predicted_value\"] == 1) & (df_test_DT[\"label\"] == 0) \n",
    "print(f\"\\nFPR By Group: \\n {df_test_DT.groupby(['group'])['false_positive'].mean()*100}\")\n",
    "\n",
    "# Calculate false negatives by group\n",
    "df_test_DT[\"false_negative\"] = (df_test_DT[\"predicted_value\"] == 0) & (df_test_DT[\"label\"] == 1) \n",
    "print(f\"\\nFNR By Group: \\n {df_test_DT.groupby(['group'])['false_negative'].mean()*100}\")\n",
    "\n",
    "# Compute for statistical parity by group\n",
    "\n",
    "# Total individuals per group\n",
    "per_group_total_DT = df_test_DT.groupby(\"group\")[\"predicted_value\"].count()\n",
    "\n",
    "# Total predicted positives per group\n",
    "predicted_positives_per_group_DT = df_test_DT.groupby(\"group\")[\"predicted_value\"].sum()\n",
    "\n",
    "# Calculate acceptance rate\n",
    "statistical_parity_by_group_DT = (predicted_positives_per_group_DT / per_group_total_DT) * 100\n",
    "print(f\"\\nAcceptance Rate (Employment) By Group: \\n {statistical_parity_by_group_DT}\")"
   ]
  },
  {
   "cell_type": "markdown",
   "metadata": {},
   "source": [
    "#### Discussion:\n",
    "\n",
    "The Decision Tree Classifier achieved it's highest accuracy of 83.12% with a max-depth of 12 and a min_samples_split - the minimum number of samples required to split an internal node - of 8. This classifier also ran the fasted of all the classifiers tested with parameters. "
   ]
  },
  {
   "cell_type": "markdown",
   "metadata": {},
   "source": [
    "## Random Forest"
   ]
  },
  {
   "cell_type": "code",
   "execution_count": 141,
   "metadata": {},
   "outputs": [
    {
     "name": "stdout",
     "output_type": "stream",
     "text": [
      "Accuracy for Random Forest: 83.70%\n",
      "Overall PPV for Random Forest: 80.81%\n",
      "Overall FPR for Random Forest: 19.19%\n",
      "Overall FNR for Random Forest: 11.82%\n"
     ]
    }
   ],
   "source": [
    "# Random Forest Classifier\n",
    "model_sex_RF = make_pipeline(StandardScaler(), RandomForestClassifier(n_estimators=400, max_depth=16))\n",
    "model_sex_RF.fit(X_train, y_train)\n",
    "\n",
    "y_hat_RF = model_sex_RF.predict(X_test)\n",
    "\n",
    "# Calculate Overall Values\n",
    "TP_RF = ((y_hat_RF == 1) & (y_test == 1)).sum()\n",
    "FP_RF = ((y_hat_RF == 1) & (y_test == 0)).sum()\n",
    "TN_RF = ((y_hat_RF == 0) & (y_test == 0)).sum()\n",
    "FN_RF = ((y_hat_RF == 0) & (y_test == 1)).sum()\n",
    "\n",
    "PPV_RF = TP_RF / (y_hat_RF == 1).sum()\n",
    "FPR_RF = FP_RF / (TP_RF + FP_RF)\n",
    "FNR_RF = FN_RF / (TP_RF + FN_RF)\n",
    "\n",
    "print(f\"Accuracy for Random Forest:{((y_hat_RF == y_test).mean())*100: .2f}%\")\n",
    "# Without Parameters: 80.92%, With Parameters: 83.74%\n",
    "print(f\"Overall PPV for Random Forest:{PPV_RF*100: .2f}%\")\n",
    "print(f\"Overall FPR for Random Forest:{FPR_RF*100: .2f}%\")\n",
    "print(f\"Overall FNR for Random Forest:{FNR_RF*100: .2f}%\")\n",
    "\n"
   ]
  },
  {
   "cell_type": "code",
   "execution_count": 142,
   "metadata": {},
   "outputs": [
    {
     "name": "stdout",
     "output_type": "stream",
     "text": [
      "\n",
      "Accuracy By Group: \n",
      " \n",
      " group\n",
      "1    85.706215\n",
      "2    81.791286\n",
      "Name: correct_prediction, dtype: float64\n",
      "\n",
      "PPV By Group: \n",
      " group\n",
      "1    85.356957\n",
      "2    76.496784\n",
      "dtype: float64\n",
      "\n",
      "FPR By Group: \n",
      " \n",
      " group\n",
      "1     7.937853\n",
      "2    12.775686\n",
      "Name: false_positive, dtype: float64\n",
      "\n",
      "FNR By Group: \n",
      " \n",
      " group\n",
      "1    6.355932\n",
      "2    5.433029\n",
      "Name: false_negative, dtype: float64\n",
      "\n",
      "Acceptance Rate (Employment) By Group: \n",
      " group\n",
      "1    54.209040\n",
      "2    54.357181\n",
      "Name: predicted_value, dtype: float64\n"
     ]
    }
   ],
   "source": [
    "# Breaking down by subgroups is much easier if we use a Dataframe\n",
    "df_test_RF = pd.DataFrame(X_test, columns = features_to_use1)\n",
    "df_test_RF[\"group\"] = group_test\n",
    "df_test_RF[\"label\"] = y_test\n",
    "df_test_RF[\"predicted_value\"] = y_hat_RF\n",
    "df_test_RF[\"correct_prediction\"] = df_test_RF[\"predicted_value\"] == df_test_RF[\"label\"]\n",
    "\n",
    "# Calculate correct prediction by group\n",
    "df_test_RF[\"correct_prediction\"] = df_test_RF[\"predicted_value\"] == df_test_RF[\"label\"]\n",
    "print(f\"\\nAccuracy By Group: \\n \\n {df_test_RF.groupby(['group'])['correct_prediction'].mean()*100}\")\n",
    "\n",
    "# Calculate true positives and false positives by group\n",
    "df_test_RF[\"true_positive\"] = (df_test_RF[\"predicted_value\"] == 1) & (df_test_RF[\"label\"] == 1)\n",
    "df_test_RF[\"false_positive\"] = (df_test_RF[\"predicted_value\"] == 1) & (df_test_RF[\"label\"] == 0)\n",
    "\n",
    "# Calculate PPV by group\n",
    "TP_per_group_RF = df_test_RF.groupby(\"group\")[\"true_positive\"].sum()\n",
    "FP_per_group_RF = df_test_RF.groupby(\"group\")[\"false_positive\"].sum()\n",
    "PPV_per_group = TP_per_group_RF / (TP_per_group_RF + FP_per_group_RF)\n",
    "print(f\"\\nPPV By Group: \\n {PPV_per_group * 100}\")\n",
    "\n",
    "# Calculate false positives by group\n",
    "df_test_RF[\"false_positive\"] = (df_test_RF[\"predicted_value\"] == 1) & (df_test_RF[\"label\"] == 0) \n",
    "print(f\"\\nFPR By Group: \\n \\n {df_test_RF.groupby(['group'])['false_positive'].mean()*100}\")\n",
    "\n",
    "# Calculate false negatives by group\n",
    "df_test_RF[\"false_negative\"] = (df_test_RF[\"predicted_value\"] == 0) & (df_test_RF[\"label\"] == 1) \n",
    "print(f\"\\nFNR By Group: \\n \\n {df_test_RF.groupby(['group'])['false_negative'].mean()*100}\")\n",
    "\n",
    "# Compute for statistical parity by group\n",
    "\n",
    "# Total individuals per group\n",
    "per_group_total_RF = df_test_RF.groupby(\"group\")[\"predicted_value\"].count()\n",
    "\n",
    "# Total predicted positives per group\n",
    "predicted_positives_per_group_RF = df_test_RF.groupby(\"group\")[\"predicted_value\"].sum()\n",
    "\n",
    "# Calculate acceptance rate\n",
    "statistical_parity_by_group_RF = (predicted_positives_per_group_RF / per_group_total_RF) * 100\n",
    "print(f\"\\nAcceptance Rate (Employment) By Group: \\n {statistical_parity_by_group_RF}\")\n"
   ]
  },
  {
   "cell_type": "markdown",
   "metadata": {},
   "source": [
    "#### Discussion:\n",
    "\n",
    "While increasing max_depth to 16 itself led to the largest increase in classifier accuracy, adding more estimators - n_estimators set to 400 - to the model led to a further increase in accuracy from 83.55% to 83.74%. Random Forest achieved the highest prediction accuracy of all models tested. "
   ]
  },
  {
   "cell_type": "markdown",
   "metadata": {},
   "source": [
    "## Bias Measures:\n",
    "\n",
    "1. A model is consider well calibrated if it reflects the same likelihood of positive prediction irrespective an individuals' group membership. In other words, the model should be free from predictive bias. It appears that none of the models are well-calibrated as across all of them, the positive prediction rate of male employment is several percentage points higher than female employment. More specifically, the PPV ranges from anywhere between ~8%-9% across all of the models.\n",
    "\n",
    "2. Across the board, again, the models do not satisfy error rate balance. The False Positive Rate (FPR) is higher for females across all four, whereas the False Negative Rate (FNR) is higher for males across all four models. Even further, the margin of difference between groups for FPR is much greater than that for FNR across all Models. The FPR difference between groups is at its lowest ~4.56% in our LR model, whereas the largest difference in FNRs is ~1.36%, also found in our LR model.\n",
    "\n",
    "3. The best performing fairness metric across our models is statistical parity, with no models differing more than .7% in acceptance rate (i.e. employment prediction) between male and females. "
   ]
  },
  {
   "cell_type": "markdown",
   "metadata": {},
   "source": [
    "## Plotting Feasible FNR and FPR Rates\n",
    "\n",
    "*Using Random Forest Model because it had the best accuracy per group*"
   ]
  },
  {
   "cell_type": "code",
   "execution_count": null,
   "metadata": {},
   "outputs": [
    {
     "name": "stdout",
     "output_type": "stream",
     "text": [
      "0.8535695674830641\n",
      "0.7649678377041069\n"
     ]
    },
    {
     "data": {
      "text/plain": [
       "<matplotlib.legend.Legend at 0x1a7b2f670>"
      ]
     },
     "execution_count": 163,
     "metadata": {},
     "output_type": "execute_result"
    },
    {
     "data": {
      "image/png": "[encoded data removed]",
      "text/plain": [
       "<Figure size 800x500 with 1 Axes>"
      ]
     },
     "metadata": {},
     "output_type": "display_data"
    }
   ],
   "source": [
    "from matplotlib import pyplot as plt\n",
    "\n",
    "prevalence = df_test_RF.groupby(\"group\")[\"label\"].mean()\n",
    "p_male = prevalence.loc[1]\n",
    "p_female = prevalence.loc[2]\n",
    "\n",
    "# Recalculating FNR here to make continuity more clear/avoid using variables from other cells\n",
    "\n",
    "# Calculate true positives and false positives by group\n",
    "df_test_RF[\"true_positive\"] = (df_test_RF[\"predicted_value\"] == 1) & (df_test_RF[\"label\"] == 1)\n",
    "df_test_RF[\"false_positive\"] = (df_test_RF[\"predicted_value\"] == 1) & (df_test_RF[\"label\"] == 0)\n",
    "df_test_RF[\"false_negative\"] = (df_test_RF[\"predicted_value\"] == 0) & (df_test_RF[\"label\"] == 1)\n",
    "df_test_RF[\"true_negative\"] = (df_test_RF[\"predicted_value\"] == 0) & (df_test_RF[\"label\"] == 0)\n",
    "\n",
    "# Calculate PPV by group\n",
    "TP_per_group_RF = df_test_RF.groupby(\"group\")[\"true_positive\"].sum()\n",
    "FP_per_group_RF = df_test_RF.groupby(\"group\")[\"false_positive\"].sum()\n",
    "FN_per_group_RF = df_test_RF.groupby(\"group\")[\"false_negative\"].sum()\n",
    "TN_per_group_RF = df_test_RF.groupby(\"group\")[\"true_negative\"].sum()\n",
    "\n",
    "PPV_per_group = TP_per_group_RF / (TP_per_group_RF + FP_per_group_RF)\n",
    "PPV_male = PPV_per_group.loc[1]\n",
    "PPV_female = PPV_per_group.loc[2]\n",
    "\n",
    "# Calculate FNR\n",
    "FNR = FN_per_group_RF / (FN_per_group_RF + TP_per_group_RF)\n",
    "FNR_male = FNR.loc[1]\n",
    "FNR_female = FNR.loc[2]\n",
    "\n",
    "# Calculate FPR\n",
    "FPR_male = (p_male / (1 - p_male)) * ((1 - PPV_male) / PPV_male) * (1 - FNR_male)\n",
    "FPR_female = (p_female / (1 - p_female)) * ((1 - PPV_female) / PPV_female) * (1 - FNR_female)\n",
    "\n",
    "feasible_FNR_range = np.linspace(0, 1, 100)\n",
    "\n",
    "FPR_male_line = (p_male / (1 - p_male)) * ((1 - PPV_female) / PPV_female) * (1 - feasible_FNR_range)\n",
    "FPR_female_line = (p_female / (1 - p_female)) * ((1 - PPV_female) / PPV_female) * (1 - feasible_FNR_range)\n",
    "\n",
    "plt.figure(figsize=(8, 5))\n",
    "\n",
    "plt.plot(FNR_male, FPR_male, 'o', color='orange', label='Male')\n",
    "plt.plot(FNR_female, FPR_female, 'o', color='black', label='Female')\n",
    "\n",
    "plt.plot(feasible_FNR_range, FPR_male_line, '-', color='orange')\n",
    "plt.plot(feasible_FNR_range, FPR_female_line, '-', color='black')\n",
    "\n",
    "plt.xlabel(\"False Negative Rate (FNR)\")\n",
    "plt.ylabel(\"False Positive Rate (FPR)\")\n",
    "plt.title(\"Feasible FNRs and FPRs\")\n",
    "plt.legend()\n"
   ]
  },
  {
   "cell_type": "markdown",
   "metadata": {},
   "source": [
    "**Tuning the classifier threshold**: Looking at the feasibility curves for males and females, if we set the threshold so that both groups have an FPR of 0.15, the male curve corresponds to an FNR of 0.25, while the female curve corresponds to an FNR of 0.40. Thus, to achieve the same FPR across groups, we must allow the female group’s FNR to increase from 0.25 to 0.40, a difference of 15%."
   ]
  },
  {
   "cell_type": "markdown",
   "metadata": {},
   "source": [
    "## Concluding Discussion:\n",
    "\n",
    "*What groups of people could stand to benefit?*\n",
    "\n",
    "This model predicts whether an individual is employed, so it could benefit recruiting agencies or HR departments seeking to identify jobseekers or allocate training resources - specifically understanding what feature groups may be searching for a job/have more possible unemployed candidates available to interview.\n",
    "\n",
    "*Impact of deploying model?*\n",
    "\n",
    "From the bias audit, we see differences in false positive and false negative rates across groups. If deployed widely, these disparities could systematically disadvantage certain populations—for instance, if a higher false negative rate leads to fewer recognized as “employed,” those individuals might miss job opportunities or loans. Conversely, higher false positives could unfairly label individuals as employed when they are not, whereas false negatives could mean that hiring/search resources are allocated to the wrong demographic areas, disadvantaging those who don't fit the template of an employed/unemployed individual. Even more, the differences in the bias audit reveal the way in which employment data is a proxy for historical prejudice - and in my case, specifically gender-based hiring prejudice - which could lead to reinforced stereotypes of who is \"employable\" and who is not. \n",
    "\n",
    "*Does the Model Display Bias?*\n",
    "\n",
    "From the bias audit (examining accuracy, PPV, FNR, and FPR by group), we see that the model’s performance differs between males and females for several fairness criterion. For example, it appears that none of the models are well-calibrated as across all we see the positive prediction rate of male employment is several percentage points higher than female employment. More specifically, the PPV ranges from anywhere between ~8%-9% across all of the models. There is also error rate imbalance: the False Positive Rate (FPR) is higher for females across all four, whereas the False Negative Rate (FNR) is higher for males across all four models. Even further, the margin of difference between groups for FPR is much greater than that for FNR across all Models. The FPR difference between groups is at its lowest ~4.56% in our LR model, whereas the largest difference in FNRs is ~1.36%, also found in our LR model. This could lead to prejudicial assumptions which have harmful effects on fair hiring practices. For instance, if one group has a statistically higher false negative rate, that group may be systematically overlooked for certain opportunities.\n",
    "\n",
    "*Further Concerns?*\n",
    "\n",
    "The model analyzed here is quite complex. Specifically, it involves the correlation/scoring of a large set of features, and classifier/modeling methods that are not very accessible. In other words, it isn't a very transparent model, and that can lead to a lot of mistrust about how the decisions are being made and why. I also want to know more about *where* the data is being collected in a state, what areas/communities it is taken from, and how representative or random are those samples. To address these issues, we could continue ollect more diverse data, and promote education and transparency initiatives about Machine Learning. Furthermore, it is always important to include human oversight as a \"second set of eyes\" in decisions made about another person's life from data."
   ]
  },
  {
   "cell_type": "markdown",
   "metadata": {},
   "source": []
  }
 ],
 "metadata": {
  "kernelspec": {
   "display_name": "ml-0451",
   "language": "python",
   "name": "python3"
  },
  "language_info": {
   "codemirror_mode": {
    "name": "ipython",
    "version": 3
   },
   "file_extension": ".py",
   "mimetype": "text/x-python",
   "name": "python",
   "nbconvert_exporter": "python",
   "pygments_lexer": "ipython3",
   "version": "3.9.21"
  }
 },
 "nbformat": 4,
 "nbformat_minor": 2
}
